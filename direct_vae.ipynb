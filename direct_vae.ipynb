{
 "cells": [
  {
   "cell_type": "markdown",
   "metadata": {},
   "source": [
    "# Direct Optimization of Discrete Variational Autoencoder \n",
    "\n",
    "### Generative model on the MNIST dataset, where the latent space is N one-hot vectors of size K\n"
   ]
  },
  {
   "cell_type": "code",
   "execution_count": 1,
   "metadata": {},
   "outputs": [],
   "source": [
    "import torch\n",
    "import torch.nn as nn\n",
    "import torch.nn.functional as F\n",
    "from torch.autograd import Variable\n",
    "from torchvision import datasets\n",
    "from torchvision import transforms\n",
    "import torchvision\n",
    "\n",
    "import math\n",
    "import numpy as np\n",
    "import random\n",
    "\n",
    "%matplotlib inline\n",
    "import matplotlib\n",
    "import matplotlib.pyplot as plt"
   ]
  },
  {
   "cell_type": "markdown",
   "metadata": {},
   "source": [
    "#### hyper parameters"
   ]
  },
  {
   "cell_type": "code",
   "execution_count": 2,
   "metadata": {},
   "outputs": [],
   "source": [
    "params = {'num_epochs': 10,\n",
    "            'print_model': True,\n",
    "            'batch_size': 100,\n",
    "            'learning_rate': 0.001,\n",
    "            'gumbels' : 5,\n",
    "            'N_K': (6,2),\n",
    "            'eps_0':1.0,\n",
    "            'anneal_rate':1e-5,\n",
    "            'min_eps':0.1,\n",
    "            'save_images':False,\n",
    "            'print_result':False}\n",
    " \n",
    "random.seed(59)\n",
    "torch.manual_seed(59)\n",
    "is_cuda = torch.cuda.is_available()"
   ]
  },
  {
   "cell_type": "markdown",
   "metadata": {},
   "source": [
    "#### utils functions"
   ]
  },
  {
   "cell_type": "code",
   "execution_count": 3,
   "metadata": {},
   "outputs": [],
   "source": [
    "def denorm(x): #from range [-1,1] to [0,1]\n",
    "    out = (x + 1) / 2\n",
    "    return out.clamp(0, 1)\n",
    "\n",
    "def norm(x): #from range [0,1] to [-1,1]\n",
    "    out = 2*x - 1\n",
    "    return out.clamp(-1, 1)\n",
    "\n",
    "\n",
    "def get_data_loaders(params):\n",
    "    bsize= params['batch_size']\n",
    "    transform = transforms.ToTensor() \n",
    "    train_dataset = datasets.MNIST(root='./data',\n",
    "                         train=True,\n",
    "                         transform=transform,\n",
    "                         download=True)\n",
    "\n",
    "    test_dataset = datasets.MNIST(root='./data',\n",
    "                     train=False,\n",
    "                     transform=transform,\n",
    "                     download=True)\n",
    "    # Data loader\n",
    "    train_loader = torch.utils.data.DataLoader(dataset=train_dataset,\n",
    "                                              batch_size=bsize, \n",
    "                                              shuffle=True)\n",
    "\n",
    "    test_loader = torch.utils.data.DataLoader(dataset=test_dataset, \n",
    "                                              batch_size=bsize, \n",
    "                                              shuffle=False)\n",
    "    return train_loader,test_loader\n",
    "\n",
    "def to_var(x):\n",
    "    if is_cuda:\n",
    "        x = x.cuda()\n",
    "    return x\n",
    "\n",
    "def kl_multinomial(phi_x):\n",
    "    K = phi_x.size(-1)\n",
    "    q_z = F.softmax(phi_x,dim =1)    \n",
    "    log_q_z = torch.log(q_z+1e-20)    \n",
    "    kl_tmp = q_z * (log_q_z - math.log(1.0/K))\n",
    "    return kl_tmp.sum()"
   ]
  },
  {
   "cell_type": "markdown",
   "metadata": {},
   "source": [
    "#### VAE model "
   ]
  },
  {
   "cell_type": "code",
   "execution_count": 4,
   "metadata": {},
   "outputs": [],
   "source": [
    "\n",
    "class Encoder(nn.Module):\n",
    "    def __init__(self, image_size=784, h_dim=(400,200), N=6,K=6,M=20):\n",
    "        super(Encoder, self).__init__()\n",
    "        self.encoder = nn.Sequential(\n",
    "            nn.Linear(image_size,h_dim[0]),\n",
    "            nn.ReLU(),\n",
    "            nn.Linear(h_dim[0],h_dim[1]),\n",
    "            nn.ReLU(),\n",
    "            nn.Linear(h_dim[1],N*K))\n",
    "        \n",
    "        self.N = N\n",
    "        self.K = K\n",
    "        self.M = M     \n",
    "    def forward(self, x):\n",
    "        phi_x = self.encoder(x).view(-1,self.K)\n",
    "        z,phi_x_g = self.gumbel_perturbation(phi_x)\n",
    "        return z,phi_x_g,phi_x \n",
    "\n",
    "    def sample_gumbel(self,shape, eps=1e-20):\n",
    "        #Sample from Gumbel(0, 1)\n",
    "        U = torch.rand(shape).float()\n",
    "        return -torch.log(eps - torch.log(U + eps))\n",
    "    \n",
    "    def gumbel_perturbation(self,phi_x, eps=1e-10):\n",
    "        M,K,N = self.M,self.K,self.N               \n",
    "        if M != 0:\n",
    "            phi_x = phi_x.repeat(M,1)\n",
    "        \n",
    "        shape = phi_x.size()\n",
    "        assert len(shape) == 2\n",
    "        gumbel_noise = to_var(self.sample_gumbel(shape, eps=eps))\n",
    "        phi_x_gamma = phi_x + gumbel_noise\n",
    "\n",
    "        if M != 0:\n",
    "            phi_x_gamma = phi_x_gamma.view(M,-1,N,K)\n",
    "        phi_x_gamma = phi_x_gamma.view(-1,K)\n",
    "        # hard:\n",
    "        _, k = phi_x_gamma.data.max(-1)\n",
    "        if is_cuda:\n",
    "            z = torch.cuda.FloatTensor(*shape).zero_().scatter_(-1, k.view(-1, 1), 1.0)\n",
    "        else:\n",
    "            z = torch.FloatTensor(*shape).zero_().scatter_(-1, k.view(-1, 1), 1.0)\n",
    "        z_phi_gamma = to_var(z)\n",
    "        return z_phi_gamma,phi_x_gamma\n",
    "\n",
    "class Decoder(nn.Module):\n",
    "    def __init__(self, image_size=784, h_dim=(400,200), N=6,K=6,M=3):\n",
    "        super(Decoder, self).__init__()       \n",
    "        self.decoder = nn.Sequential(\n",
    "            nn.Linear(N*K,h_dim[0]),\n",
    "            nn.ReLU(),\n",
    "            nn.Linear(h_dim[0],h_dim[1]),\n",
    "            nn.ReLU(),\n",
    "            nn.Linear(h_dim[1], image_size))\n",
    "\n",
    "        self.N = N\n",
    "        self.K = K\n",
    "        self.M = M\n",
    "        \n",
    "    def forward(self, y):\n",
    "        out = self.decoder(y.view(-1,self.N*self.K))\n",
    "        if self.M != 0:\n",
    "            out = out.view(self.M,-1,out.size(1)).mean(dim=0)\n",
    "        return out\n",
    "    \n",
    "    def theta(self, y):\n",
    "        out = self.decoder(y.view(-1,self.N*self.K))\n",
    "        return out"
   ]
  },
  {
   "cell_type": "code",
   "execution_count": 5,
   "metadata": {},
   "outputs": [],
   "source": [
    "class Direct_VAE:\n",
    "    def __init__(self,params):\n",
    "\n",
    "        self.N,self.K  = params['N_K'] \n",
    "        self.M = params['gumbels']\n",
    "        self.encoder = Encoder(N=self.N,K=self.K,M=self.M)\n",
    "        self.decoder = Decoder(N=self.N,K=self.K,M=self.M)\n",
    "        self.eps = params['eps_0']\n",
    "        self.annealing_rate = params['anneal_rate']\n",
    "\n",
    "        self.params = params\n",
    "        \n",
    "        if params['print_model']:\n",
    "            print 'encoder: ',self.encoder\n",
    "            print 'decoder: ',self.decoder\n",
    "            params['print_model'] = False\n",
    "        if torch.cuda.is_available():\n",
    "            self.encoder.cuda()\n",
    "            self.decoder.cuda()\n",
    "            \n",
    "        lr = params['learning_rate']\n",
    "        self.optimizer_e = torch.optim.Adam(self.encoder.parameters(), lr=lr)\n",
    "        self.optimizer_d = torch.optim.Adam(self.decoder.parameters(), lr=lr)\n",
    "        self.bce_loss = nn.BCEWithLogitsLoss(size_average=False, reduce=False)\n",
    "        self.training_iter = 0\n",
    "\n",
    "\n",
    "    def train(self,train_loader):    \n",
    "        kl_sum,bce_sum = 0,0\n",
    "        eps_0,ANNEAL_RATE,min_eps = params['eps_0'],params['anneal_rate'],params['min_eps']        \n",
    "        for i, (im, _) in enumerate(train_loader):\n",
    "            images = to_var(im.view(im.size(0), -1)).round()\n",
    "            labels = images if self.M == 0 else images.repeat(self.M,1)\n",
    "            # forward\n",
    "            z_hard,phi_x_g,phi_x = self.encoder(images)\n",
    "            out = self.decoder(z_hard)\n",
    "\n",
    "            # backward\n",
    "            gradients = self.compute_encoder_gradients(z_hard,phi_x_g,labels,self.eps)\n",
    "            encoder_loss = torch.sum(to_var(gradients)*phi_x_g)             \n",
    "            decoder_loss  = self.bce_loss(out,images).sum()\n",
    "            kl = kl_multinomial(phi_x)\n",
    "            \n",
    "            encoder_loss += kl\n",
    "            self.optimizer_e.zero_grad()\n",
    "            self.optimizer_d.zero_grad()\n",
    "\n",
    "            decoder_loss.backward()\n",
    "            encoder_loss.backward()\n",
    "\n",
    "            self.optimizer_d.step()\n",
    "            self.optimizer_e.step()\n",
    "            \n",
    "            bce_sum += (decoder_loss+kl)/(im.size(0))\n",
    "            if self.training_iter % 500 == 0:\n",
    "                a = eps_0*math.exp(-ANNEAL_RATE*self.training_iter)\n",
    "                if a > min_eps:\n",
    "                    self.eps = a\n",
    "                else:\n",
    "                    self.eps=min_eps\n",
    "\n",
    "            self.training_iter += 1\n",
    "        nll_bce = (bce_sum.item())/len(train_loader)\n",
    "        return nll_bce\n",
    "\n",
    "    def evaluate(self,test_loader):\n",
    "        self.encoder.eval()\n",
    "        self.decoder.eval()\n",
    "        bce_sum =0\n",
    "        kl_div = 0\n",
    "        for images, labels in test_loader:        \n",
    "            images = to_var(images.view(images.size(0), -1)).round()\n",
    "            hards,_,phi_x = self.encoder(images)\n",
    "            out = self.decoder(hards)\n",
    "  \n",
    "            decoder_loss = self.bce_loss(out,images).sum()\n",
    "            kl = kl_multinomial(phi_x)\n",
    "            bce_sum += (decoder_loss+kl)/images.size(0)\n",
    "\n",
    "        self.encoder.train()\n",
    "        self.decoder.train()\n",
    "        nll_bce = bce_sum.item()/len(test_loader)\n",
    "        return nll_bce\n",
    "\n",
    "    def compute_encoder_gradients(self,z_hard,phi_x_g,ground_truth,epsilon=1.0):\n",
    "        N = self.N\n",
    "        K = self.K\n",
    "        soft_copy = phi_x_g.data\n",
    "        hard_copy = z_hard.data.view(-1,N,K)\n",
    "        self.decoder.eval()\n",
    "        losses = to_var(torch.zeros(hard_copy.size(0), K*N))\n",
    "        l = 0\n",
    "        for n in range(N):\n",
    "            a_clone = hard_copy.clone()\n",
    "            idx = n*torch.ones(hard_copy.size(0),1,hard_copy.size(2)).long()\n",
    "            if is_cuda:\n",
    "                idx = idx.cuda()                \n",
    "            a_clone.scatter_(1,idx, 0)\n",
    "\n",
    "            for k in range(K):\n",
    "                clone2 = a_clone.clone()\n",
    "                clone2[:,n,k]=1\n",
    "                out = self.decoder.theta(to_var(clone2).view(-1,K))                \n",
    "                total_loss_batchX784 = self.bce_loss(out,ground_truth) \n",
    "                    \n",
    "                losses[:,l] = total_loss_batchX784.sum(dim = 1)\n",
    "                l +=1\n",
    "\n",
    "        hard_copy = hard_copy.view(-1,K)\n",
    "        losses = epsilon*losses.view(-1,K).data\n",
    "        soft_copy = soft_copy - losses\n",
    "        shape = soft_copy.size()\n",
    "        _, k = soft_copy.max(-1)\n",
    "        if is_cuda:\n",
    "            change = torch.cuda.FloatTensor(*shape).zero_().scatter_(-1, k.view(-1, 1),1.0) \n",
    "        else:\n",
    "            change = torch.FloatTensor(*shape).zero_().scatter_(-1, k.view(-1, 1),1.0) \n",
    "        gradients = hard_copy - change\n",
    "        self.decoder.train()\n",
    "        gradients = gradients*(1.0/epsilon)\n",
    "        return gradients"
   ]
  },
  {
   "cell_type": "code",
   "execution_count": 6,
   "metadata": {},
   "outputs": [],
   "source": [
    "def training_procedure(params):\n",
    "\n",
    "    train_loader,valid_loader = get_data_loaders(params)\n",
    "    N,K = params['N_K']\n",
    "    direct_vae = Direct_VAE(params)\n",
    "    \n",
    "    best_state_dicts = None\n",
    "    print 'hyper parameters: ' ,params\n",
    "\n",
    "    train_results,test_results = [],[]\n",
    "    best_nll = 1000\n",
    "    print_res = params['print_result']\n",
    "    for epoch in range(params['num_epochs']):\n",
    "        nll = direct_vae.train(train_loader)\n",
    "        train_results.append(nll)\n",
    "        if print_res:\n",
    "            print \" ------ Epoch[{}/{}] ------ \".format(epoch+1,  params['num_epochs'])\n",
    "            print (\"Train: NLL :{:.2f}\".format(nll))\n",
    "\n",
    "        nll  = direct_vae.evaluate(valid_loader) \n",
    "        test_results.append(nll)\n",
    "        if print_res:     \n",
    "            print (\"Test: NLL:{:.2f}\".format(nll))            \n",
    "        if nll <best_nll:\n",
    "            best_nll = nll\n",
    "            best_state_dicts = (direct_vae.encoder.state_dict(),direct_vae.decoder.state_dict())\n",
    "\n",
    "    return train_results,test_results,best_nll,best_state_dicts"
   ]
  },
  {
   "cell_type": "markdown",
   "metadata": {},
   "source": [
    "#### Note that there are K ^ N different combinations of the latent space. Obviously, we can't optimize over such large space, so we optimize each N_i separately (total of N * K evaluations of the decoder). \n"
   ]
  },
  {
   "cell_type": "code",
   "execution_count": null,
   "metadata": {},
   "outputs": [],
   "source": [
    "def show_plots(list_a,list_b):\n",
    "        plt.clf()\n",
    "        epochs = range(len(list_a))\n",
    "        plt.plot(epochs,list_a)\n",
    "        plt.plot(epochs,list_b)\n",
    "        plt.ylabel('NLL')\n",
    "        plt.xlabel('epoch')\n",
    "        plt.legend(['(6,2)','(1,64)'], loc='upper right')\n",
    "\n",
    "        plt.show()"
   ]
  },
  {
   "cell_type": "code",
   "execution_count": null,
   "metadata": {},
   "outputs": [],
   "source": [
    "params['N_K']= (3,2)\n",
    "results1 = training_procedure(params)\n",
    "params['N_K']= (1,8)\n",
    "results2 = training_procedure(params)"
   ]
  },
  {
   "cell_type": "code",
   "execution_count": null,
   "metadata": {},
   "outputs": [],
   "source": [
    "params['N_K']= (4,2)\n",
    "results3 = training_procedure(params)\n",
    "params['N_K']= (1,16)\n",
    "results4 = training_procedure(params)"
   ]
  },
  {
   "cell_type": "code",
   "execution_count": null,
   "metadata": {},
   "outputs": [],
   "source": [
    "params['N_K']= (5,2)\n",
    "results5 = training_procedure(params)\n",
    "params['N_K']= (1,32)\n",
    "results6 = training_procedure(params)"
   ]
  },
  {
   "cell_type": "code",
   "execution_count": null,
   "metadata": {},
   "outputs": [],
   "source": [
    "params['N_K']= (6,2)\n",
    "results7 = training_procedure(params)\n",
    "params['N_K']= (1,64)\n",
    "results8 = training_procedure(params)"
   ]
  },
  {
   "cell_type": "code",
   "execution_count": 9,
   "metadata": {},
   "outputs": [
    {
     "data": {
      "image/png": "[encoded data removed]",
      "text/plain": [
       "<matplotlib.figure.Figure at 0x7fa7fa290210>"
      ]
     },
     "metadata": {},
     "output_type": "display_data"
    }
   ],
   "source": [
    "a = results1[1]\n",
    "b = results2[1]\n",
    "show_plots(a,b)"
   ]
  },
  {
   "cell_type": "code",
   "execution_count": 16,
   "metadata": {},
   "outputs": [
    {
     "data": {
      "image/png": "[encoded data removed]",
      "text/plain": [
       "<matplotlib.figure.Figure at 0x7f9c1571c310>"
      ]
     },
     "metadata": {},
     "output_type": "display_data"
    }
   ],
   "source": [
    "a = results3[1]\n",
    "b = results4[1]\n",
    "show_plots(a,b)"
   ]
  },
  {
   "cell_type": "code",
   "execution_count": 15,
   "metadata": {},
   "outputs": [
    {
     "data": {
      "image/png": "[encoded data removed]",
      "text/plain": [
       "<matplotlib.figure.Figure at 0x7fa7fa333c10>"
      ]
     },
     "metadata": {},
     "output_type": "display_data"
    }
   ],
   "source": [
    "a = results5[1]\n",
    "b = results6[1]\n",
    "show_plots(a,b)"
   ]
  },
  {
   "cell_type": "code",
   "execution_count": 18,
   "metadata": {},
   "outputs": [
    {
     "data": {
      "image/png": "[encoded data removed]",
      "text/plain": [
       "<matplotlib.figure.Figure at 0x7fa7fa312110>"
      ]
     },
     "metadata": {},
     "output_type": "display_data"
    }
   ],
   "source": [
    "a = results7[1]\n",
    "b = results8[1]\n",
    "show_plots(a,b)"
   ]
  },
  {
   "cell_type": "code",
   "execution_count": 17,
   "metadata": {},
   "outputs": [],
   "source": []
  },
  {
   "cell_type": "code",
   "execution_count": null,
   "metadata": {},
   "outputs": [],
   "source": []
  }
 ],
 "metadata": {
  "kernelspec": {
   "display_name": "Python 2",
   "language": "python",
   "name": "python2"
  },
  "language_info": {
   "codemirror_mode": {
    "name": "ipython",
    "version": 2
   },
   "file_extension": ".py",
   "mimetype": "text/x-python",
   "name": "python",
   "nbconvert_exporter": "python",
   "pygments_lexer": "ipython2",
   "version": "2.7.6"
  }
 },
 "nbformat": 4,
 "nbformat_minor": 2
}
