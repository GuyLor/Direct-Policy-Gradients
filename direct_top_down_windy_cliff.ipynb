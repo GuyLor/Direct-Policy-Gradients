{
 "cells": [
  {
   "cell_type": "markdown",
   "metadata": {},
   "source": [
    "# Windy-cliff-walking with direct optimization\n",
    "\n",
    "####  The network is updated by direct optimization which searches across all of the combinations of 4 steps (4^4). The gumbels are sampled in top-down construction with conditional probabilities \n"
   ]
  },
  {
   "cell_type": "code",
   "execution_count": 1,
   "metadata": {},
   "outputs": [],
   "source": [
    "%matplotlib inline\n",
    "import matplotlib\n",
    "import matplotlib.pyplot as plt\n",
    "import numpy as np\n",
    "import pandas as pd\n",
    "import itertools\n",
    "from matplotlib.colors import hsv_to_rgb\n"
   ]
  },
  {
   "cell_type": "markdown",
   "metadata": {},
   "source": [
    "## ######################## environment ########################## #"
   ]
  },
  {
   "cell_type": "code",
   "execution_count": 2,
   "metadata": {},
   "outputs": [],
   "source": [
    "def change_range(values, vmin=0, vmax=1):\n",
    "    start_zero = values - np.min(values)\n",
    "    return (start_zero / (np.max(start_zero) + 1e-7)) * (vmax - vmin) + vmin"
   ]
  },
  {
   "cell_type": "code",
   "execution_count": 3,
   "metadata": {},
   "outputs": [],
   "source": [
    "steps = 4\n",
    "height = 2*steps+1\n",
    "width = 2*steps+1\n",
    "start = (steps,steps)\n",
    "obj = (steps,2*steps-2)\n",
    "\n"
   ]
  },
  {
   "cell_type": "code",
   "execution_count": 4,
   "metadata": {},
   "outputs": [],
   "source": [
    "class GridWorld:\n",
    "    terrain_color = dict(normal=[127.0/360, 0.0, 96.0/100],\n",
    "                         objective=[26.0/360, 100.0/100, 100.0/100],\n",
    "                         cliff=[247.0/360, 92.0/100, 70.0/100],\n",
    "                         player=[344.0/360, 93.0/100, 100.0/100])        \n",
    "    def __init__(self):\n",
    "        self.player = None\n",
    "        self._create_grid()  \n",
    "        self._draw_grid()\n",
    "        \n",
    "    def _create_grid(self, initial_grid=None):\n",
    "        self.grid = self.terrain_color['normal'] * np.ones((height, width, 3))\n",
    "        self._add_objectives(self.grid)\n",
    "        \n",
    "    def _add_objectives(self, grid,history = None):\n",
    "        grid[start[0], start[1]:obj[1]] = self.terrain_color['cliff']\n",
    "        grid[obj] = self.terrain_color['objective']\n",
    "        grid[start] = self.terrain_color['player']\n",
    "        if history is not None:\n",
    "            for idx in history:\n",
    "                grid[self._id_to_position(idx)] = self.terrain_color['player']\n",
    "    def _draw_grid(self):\n",
    "        self.fig, self.ax = plt.subplots(figsize=(width, height))\n",
    "        self.ax.grid(which='minor')\n",
    "        self.q_texts = [self.ax.text(*self._id_to_position(i)[::-1], s='0',\n",
    "                                     fontsize=11, verticalalignment='center', \n",
    "                                     horizontalalignment='center') for i in range(height * width)]  \n",
    "         \n",
    "        self.im = self.ax.imshow(hsv_to_rgb(self.grid), cmap='terrain',\n",
    "                                 interpolation='nearest', vmin=0, vmax=1)        \n",
    "        self.ax.set_xticks(np.arange(width))\n",
    "        self.ax.set_xticks(np.arange(width) - 0.5, minor=True)\n",
    "        self.ax.set_yticks(np.arange(height))\n",
    "        self.ax.set_yticks(np.arange(height) - 0.5, minor=True)\n",
    "        \n",
    "    def reset(self):\n",
    "        self.player = start      \n",
    "        return self._position_to_id(self.player)\n",
    "    \n",
    "    def step(self, action):\n",
    "        # Possible actions        \n",
    "        if action == 0 and self.player[0] > 0:\n",
    "            self.player = (self.player[0] - 1, self.player[1])\n",
    "        if action == 1 and self.player[0] < height - 1:\n",
    "            self.player = (self.player[0] + 1, self.player[1])\n",
    "        if action == 2 and self.player[1] < width - 1:\n",
    "            self.player = (self.player[0], self.player[1] + 1)\n",
    "        if action == 3 and self.player[1] > 0:\n",
    "            self.player = (self.player[0], self.player[1] - 1)\n",
    "            \n",
    "        self._add_wind(self.player[1])            \n",
    "        # Rules\n",
    "        if all(self.grid[self.player] == self.terrain_color['cliff']):\n",
    "            reward = -100\n",
    "            done = True\n",
    "        elif all(self.grid[self.player] == self.terrain_color['objective']):\n",
    "            reward = 0\n",
    "            done = True\n",
    "        else:\n",
    "            reward = -1\n",
    "            done = False\n",
    "            \n",
    "        return self._position_to_id(self.player), reward, done\n",
    "    \n",
    "    def _add_wind(self,x_loc):\n",
    "        \n",
    "        #wind_row = [0.4,0]\n",
    "        #y_loc = 0 if self.player[0]%2 ==0 and self.player[1]%2 ==0 else 1\n",
    "        p = np.random.random()\n",
    "        if p<wind[x_loc] and self.player[0] < height-1:\n",
    "            self.player = (self.player[0]+1, self.player[1])\n",
    "            \n",
    "    def _position_to_id(self, pos):\n",
    "        ''' Maps a position in x,y coordinates to a unique ID '''\n",
    "        return pos[0] * width + pos[1]\n",
    "    \n",
    "    def _id_to_position(self, idx):\n",
    "        return (idx // width), (idx % width)\n",
    "        \n",
    "    def render(self, q_values=None, action=None,history = None, max_q=False, colorize_q=False):\n",
    "        assert self.player is not None, 'You first need to call .reset()'  \n",
    "        \n",
    "        if colorize_q:\n",
    "            assert q_values is not None, 'q_values must not be None for using colorize_q'            \n",
    "            grid = self.terrain_color['normal'] * np.ones((height, width, 3))\n",
    "            values = change_range(np.max(q_values, -1)).reshape(height, width)\n",
    "            grid[:, :, 1] = values\n",
    "            self._add_objectives(grid,history)\n",
    "        else:            \n",
    "            grid = self.grid.copy()\n",
    "            \n",
    "        grid[self.player] = self.terrain_color['player']       \n",
    "        self.im.set_data(hsv_to_rgb(grid))\n",
    "               \n",
    "        if q_values is not None:\n",
    "            xs = np.repeat(np.arange(width), height)\n",
    "            ys = np.tile(np.arange(height), width)  \n",
    "            \n",
    "            for i, text in enumerate(self.q_texts):\n",
    "                if max_q:\n",
    "                    q = max(q_values[i])    \n",
    "                    txt = '{:.2f}'.format(q)\n",
    "                    text.set_text(txt)\n",
    "                else:                \n",
    "                    actions = ['U', 'D', 'R', 'L']\n",
    "                    txt = '\\n'.join(['{}: {:.2f}'.format(k, q) for k, q in zip(actions, q_values[i])])\n",
    "                    text.set_text(txt)\n"
   ]
  },
  {
   "cell_type": "code",
   "execution_count": 5,
   "metadata": {},
   "outputs": [],
   "source": [
    "UP = 0\n",
    "DOWN = 1\n",
    "RIGHT = 2\n",
    "LEFT = 3\n",
    "ACTIONS = ['UP', 'DOWN', 'RIGHT', 'LEFT']\n",
    "\n",
    "wind = [0 for _ in range(width)] # probability of being pushed down at column i\n",
    "wind[5] = 0.1\n"
   ]
  },
  {
   "cell_type": "code",
   "execution_count": 6,
   "metadata": {},
   "outputs": [
    {
     "data": {
      "text/plain": [
       "[0, 0, 0, 0, 0, 0.1, 0, 0, 0]"
      ]
     },
     "execution_count": 6,
     "metadata": {},
     "output_type": "execute_result"
    }
   ],
   "source": [
    "wind"
   ]
  },
  {
   "cell_type": "code",
   "execution_count": 7,
   "metadata": {},
   "outputs": [
    {
     "data": {
      "image/png": "[encoded data removed]",
      "text/plain": [
       "<Figure size 648x648 with 1 Axes>"
      ]
     },
     "metadata": {},
     "output_type": "display_data"
    }
   ],
   "source": [
    "env = GridWorld()"
   ]
  },
  {
   "cell_type": "markdown",
   "metadata": {},
   "source": [
    "#### definition of trajectory space"
   ]
  },
  {
   "cell_type": "code",
   "execution_count": 8,
   "metadata": {},
   "outputs": [],
   "source": [
    "\n",
    "num_states = width * height\n",
    "num_actions = 4\n",
    "traj_space = list(itertools.product(range(num_actions),repeat = steps)) #len of num_actions ** steps\n",
    "traj_to_idx = {t : i for i,t in enumerate(traj_space)}\n",
    "\n",
    "desired_shape = [num_actions for i in range(steps)]\n",
    "desired_shape.append(steps)\n",
    "\n",
    "traj_tensor = np.array(traj_space).reshape(desired_shape)\n",
    "#traj_tensor\n"
   ]
  },
  {
   "cell_type": "code",
   "execution_count": 9,
   "metadata": {},
   "outputs": [],
   "source": [
    "def run_episode(actions_list):\n",
    "    rewards = []\n",
    "    done = False\n",
    "    success = False\n",
    "    R = 0\n",
    "    state = env.reset()\n",
    "    for action in actions_list:\n",
    "        \n",
    "        if not done:\n",
    "            state, reward, done = env.step(action)\n",
    "        if reward==0:\n",
    "            success = True\n",
    "        #print env._id_to_position(state)\n",
    "        rewards.append(reward)\n",
    "        \n",
    "    for r in rewards[::-1]:\n",
    "        R = r + 0.99 * R   # gamma = 0.9\n",
    "        rewards.insert(0, R)\n",
    "    return sum(rewards),success"
   ]
  },
  {
   "cell_type": "markdown",
   "metadata": {},
   "source": [
    "## Policy Gradient with Gumbels"
   ]
  },
  {
   "cell_type": "markdown",
   "metadata": {},
   "source": [
    "Note that the policy network doesn't get any variable as input"
   ]
  },
  {
   "cell_type": "code",
   "execution_count": 10,
   "metadata": {},
   "outputs": [],
   "source": [
    "import torch\n",
    "import torch.nn as nn\n",
    "import torch.nn.functional as F\n",
    "import torch.optim as optim\n",
    "from torch.distributions import Categorical\n",
    "import collections\n"
   ]
  },
  {
   "cell_type": "code",
   "execution_count": 11,
   "metadata": {},
   "outputs": [],
   "source": [
    "def sample_gumbel(mu):\n",
    "    \"\"\"Sample a Gumbel(mu).\"\"\"    \n",
    "    return -np.log(np.random.exponential()) + mu\n",
    "\n",
    "\n",
    "def sample_truncated_gumbel(mu, b):\n",
    "    \"\"\"Sample a Gumbel(mu) truncated to be less than b.\"\"\"    \n",
    "    return -np.log(np.random.exponential() + np.exp(-b + mu)) + mu\n",
    "\n",
    "  \n",
    "def sample_gumbel_argmax(logits):\n",
    "    \"\"\"Sample from a softmax distribution over logits.\n",
    "\n",
    "    TODO: check this is correct.\n",
    "\n",
    "    Args:\n",
    "    logits: A flat numpy array of logits.\n",
    "\n",
    "    Returns:\n",
    "    A sample from softmax(logits).\n",
    "    \"\"\"\n",
    "    return np.argmax(-np.log(np.random.exponential(size=logits.shape)) + logits)\n",
    "\n",
    "\n",
    "def logsumexp(logits):\n",
    "    c = np.max(logits)\n",
    "    return np.log(np.sum(np.exp(logits - c))) + c\n",
    "\n",
    "\n",
    "def log_softmax(logits, axis=1):\n",
    "    \"\"\"Normalize logits per row so that they are logprobs.\n",
    "  \n",
    "      TODO: check this is correct. \n",
    "    \"\"\"\n",
    "    maxes = np.max(logits, axis=axis, keepdims=True)\n",
    "    offset_logits = logits - maxes\n",
    "    log_zs = np.log(np.sum(np.exp(offset_logits), axis=axis, keepdims=True))\n",
    "    return offset_logits - log_zs"
   ]
  },
  {
   "cell_type": "code",
   "execution_count": 12,
   "metadata": {},
   "outputs": [],
   "source": [
    "# Make a node without a state, and also don't allow `next_actions` to be None.\n",
    "# Just put in all possible next actions when the node is created.\n",
    "Node = collections.namedtuple('Node', \n",
    "                              [\n",
    "                                  'prefix',\n",
    "                                  'logprob_so_far',\n",
    "                                  'max_gumbel', \n",
    "                                  'next_actions',\n",
    "                              ])\n",
    "\n",
    "# Namedtuple for storing results\n",
    "Trajectory = collections.namedtuple('Trajectory', ['actions', 'gumbel'])\n",
    "\n",
    "\n",
    "def sample_trajectory_gumbels(conditional_logprobs, max_length):\n",
    "    \"\"\"Samples an independent Gumbel(logprob) for each trajectory in top-down-ish order.\n",
    "    Args:\n",
    "    conditional_logprobs: A max_length list where each element contains logprobs conditioned on the previous\n",
    "    time steps. for example, if num_actions = 2 and max_length = 3 so \n",
    "    conditional_logprobs = log of\n",
    "        [0.39745218 0.6025478 ] # p(t_1)\n",
    "        \n",
    "        [[0.82647455 0.1735254 ]  # p(t_2|t_1)\n",
    "         [0.12566252 0.87433743]]\n",
    "        \n",
    "        [[[0.533708   0.46629202]  # p(t_3|t_2,t_1)\n",
    "          [0.5119377  0.48806235]]\n",
    "\n",
    "         [[0.8158274  0.18417251]\n",
    "          [0.97107804 0.02892203]]].\n",
    "    max_length: Maximum length of a trajectory to allow.\n",
    "    \"\"\"    \n",
    "    num_actions = conditional_logprobs[0].shape[0]\n",
    "    # Start with a node for all trajectories.\n",
    "    root_node = Node(prefix=[], \n",
    "                   logprob_so_far=0,\n",
    "                   max_gumbel=sample_gumbel(0), \n",
    "                   next_actions=range(num_actions))\n",
    "    queue = [root_node]\n",
    "    final_trajectories = []\n",
    "    while queue:        \n",
    "        parent = queue.pop()        \n",
    "        if len(parent.prefix) == max_length:\n",
    "            t = Trajectory(actions=parent.prefix, gumbel=parent.max_gumbel) \n",
    "            final_trajectories.append(t)\n",
    "            continue\n",
    "\n",
    "        # Choose one action from amongst the set of candidates to inherit the max\n",
    "        # gumbel. Call this the \"special\" action.\n",
    "        action_logprobs = conditional_logprobs[len(parent.prefix)]\n",
    "        for prev in parent.prefix:\n",
    "            action_logprobs = action_logprobs[prev]\n",
    "        #action_logprobs = get_actions_logprobs(parent.prefix)\n",
    "        next_action_logprobs = action_logprobs[parent.next_actions]\n",
    "        special_action_index = sample_gumbel_argmax(next_action_logprobs)\n",
    "        special_action = parent.next_actions[special_action_index]\n",
    "        special_action_logprob = action_logprobs[special_action]\n",
    "\n",
    "        special_child = Node(prefix=parent.prefix + [special_action],\n",
    "                             logprob_so_far=parent.logprob_so_far + special_action_logprob,\n",
    "                             max_gumbel=parent.max_gumbel, \n",
    "                             next_actions=range(num_actions))  # All next actions are possible.\n",
    "        queue.append(special_child)\n",
    "\n",
    "        # Sample the max gumbel for the non-chosen actions and create an \"other\n",
    "        # children\" node if there are any alternatives left.\n",
    "        other_actions = [i for i in parent.next_actions if i != special_action]\n",
    "\n",
    "        assert len(other_actions) == len(parent.next_actions) - 1\n",
    "\n",
    "        if other_actions:\n",
    "            other_max_location = logsumexp(action_logprobs[other_actions])\n",
    "            other_max_gumbel = sample_truncated_gumbel(parent.logprob_so_far + other_max_location, \n",
    "                                                     parent.max_gumbel)\n",
    "            other_children = Node(prefix=parent.prefix,\n",
    "                                logprob_so_far=parent.logprob_so_far,\n",
    "                                max_gumbel=other_max_gumbel,\n",
    "                                next_actions=other_actions)            \n",
    "            queue.append(other_children)\n",
    "\n",
    "    return final_trajectories"
   ]
  },
  {
   "cell_type": "markdown",
   "metadata": {},
   "source": [
    "t_i = (z1,...,z4) 4 actions probs\n",
    "\n",
    "#### the goal is to convert softmax layer outputs to conditionals:\n",
    "p(t_1,..,t_n) = p(t_1)*p(t_2|t_1)*...*p(t_n|t_1,...,t_{n-1})\n",
    "\n",
    "#### we can marginalize:\n",
    "p(t_1) = sum_{T_2,...,T_n} p(t_1,..,t_n)\n",
    "p(t_1,t_2) = sum_{T_3,...,T_n} p(t_1,..,t_n)\n",
    "...\n",
    "p(t_1,t_2,...,t_{n-1}) = sum_{T_n} p(t_1,..,t_n)\n",
    "\n",
    "#### and compute:\n",
    "p(t_2|t_1) = p(t_1,t_2)/p(t_1)\n",
    "p(t_3|t_2,t_1) = p(t_1,t_2,t_3)/p(t_1,t_2)\n",
    "...\n",
    "p(t_n|t_{n-1},t_{n-2},...,t_1) = p(t_1,..,t_n)/p(t_1,t_2,...,t_{n-1})"
   ]
  },
  {
   "cell_type": "code",
   "execution_count": 13,
   "metadata": {
    "scrolled": false
   },
   "outputs": [],
   "source": [
    "\n",
    "def softmax_to_log_conditionals(softmax_probs,num_actions,trajectory_length):\n",
    "    \"\"\"\n",
    "    returns list of conditional probabilities\n",
    "    the returned list length is trajectory length (steps)\n",
    "    num_actions and trajectory_length are required to reshape the softmax for marginalization\n",
    "    p(t_1,..,t_n) = p(t_1)*p(t_2|t_1)*...*p(t_n|t_1,...,t_{n-1})\n",
    "    \"\"\"\n",
    "    def marginalize(dims):\n",
    "        \"\"\"\n",
    "        sums over p(t_1,..t_n) to compute marginal probabilities\n",
    "        Args: \n",
    "        \n",
    "        dims: tuple of dims to marginalize    \n",
    "        \"\"\"\n",
    "        #probs = probs.numpy()\n",
    "        assert len(softmax_probs) == num_actions ** trajectory_length\n",
    "        desired_shape = [num_actions for i in range(trajectory_length)]\n",
    "        probs_tensor = softmax_probs.reshape(desired_shape)\n",
    "        margn_probs = np.sum(probs_tensor, axis = dims)\n",
    "        return margn_probs\n",
    "\n",
    "    def compute_conditional_prob(time_step):\n",
    "        \"\"\"\n",
    "        computes p(time_step|prev_time_steps) \n",
    "        dims: the dimensions that need to be marginalized\n",
    "        \"\"\"\n",
    "\n",
    "        numenator_dims = tuple([i for i in range(time_step+1,trajectory_length)])\n",
    "        denominator_dims = tuple([i for i in range(time_step,trajectory_length)])\n",
    "\n",
    "        numerator = marginalize(numenator_dims)\n",
    "        denuminator = marginalize(denominator_dims)\n",
    "\n",
    "        return numerator/np.expand_dims(denuminator,axis=-1)\n",
    "\n",
    "\n",
    "    conditionals = []\n",
    "    for t in range(trajectory_length):\n",
    "        p_t_prev_given = compute_conditional_prob(t)\n",
    "        conditionals.append(np.log(p_t_prev_given))\n",
    "    return conditionals \n",
    "\n"
   ]
  },
  {
   "cell_type": "code",
   "execution_count": 14,
   "metadata": {},
   "outputs": [],
   "source": [
    "class TrajectoryPolicy(nn.Module):\n",
    "    def __init__(self):\n",
    "        super(TrajectoryPolicy, self).__init__()       \n",
    "        \n",
    "        self.fc = nn.Linear(40,len(traj_space))\n",
    "        \n",
    "    def forward(self,state):\n",
    "        const = torch.ones(1,40)\n",
    "        scores = self.fc(state,prev_ac)\n",
    "        \n",
    "        cond_logprobs = self.calcualate_conditional_logprobs(scores)        \n",
    "        trajectories = sample_trajectory_gumbels(cond_logprobs,steps)        \n",
    "        best_actions,phi_x_gamma = self.extract_gumbels_and_best_trajectory(trajectories)\n",
    "        \n",
    "        return tuple(best_actions),scores\n",
    "    \n",
    "    def calcualate_conditional_logprobs(self,scores):\n",
    "        probs = np.squeeze(F.softmax(scores,dim=1).detach().numpy())\n",
    "        conditional_logprobs = softmax_to_log_conditionals(probs,num_actions,steps)\n",
    "        return conditional_logprobs\n",
    "    \n",
    "    def extract_gumbels_and_best_trajectory(self,trajectories_list):\n",
    "        \n",
    "        gumbels = torch.zeros(len(traj_space))\n",
    "        for tr in trajectories_list:\n",
    "            actions = tuple(tr.actions)\n",
    "            gumbels[traj_to_idx[actions]] = tr.gumbel\n",
    "            \n",
    "        best_actions = trajectories_list[-1].actions\n",
    "        return best_actions,gumbels\n",
    "        \n",
    "        \n",
    "\n",
    "policy = TrajectoryPolicy()\n",
    "optimizer = optim.Adam(policy.parameters(), lr=0.001)"
   ]
  },
  {
   "cell_type": "code",
   "execution_count": 15,
   "metadata": {},
   "outputs": [],
   "source": [
    "def compute_policy_gradients(hard,phi_x_g,epsilon=1.0):\n",
    "\n",
    "    soft = phi_x_g.clone()\n",
    "    hard = torch.LongTensor([hard]).unsqueeze(0)\n",
    "    all_rewards = torch.zeros(len(traj_space))\n",
    "    \n",
    "    for i,actions in enumerate(traj_space):\n",
    "        all_rewards[i],_ = run_episode(actions)\n",
    "    all_rewards = epsilon*all_rewards\n",
    "    soft = soft + all_rewards\n",
    "    shape = soft.size()\n",
    "    _, argmax = soft.max(-1)\n",
    "    #print traj_space[argmax.item()]\n",
    "    #print 'dd', shape,hard\n",
    "    change = torch.FloatTensor(*shape).zero_().scatter_(-1, argmax.unsqueeze(0),1.0) # one-hot that points to the best direction\n",
    "    forward_out = torch.FloatTensor(*shape).zero_().scatter_(-1, hard,1.0) \n",
    "    gradients = forward_out - change\n",
    "    \n",
    "    gradients = gradients*(1.0/epsilon)\n",
    "    return gradients"
   ]
  },
  {
   "cell_type": "code",
   "execution_count": null,
   "metadata": {},
   "outputs": [],
   "source": [
    "run_episode((0,2,2,1)) # sanity check (the right path)"
   ]
  },
  {
   "cell_type": "code",
   "execution_count": 17,
   "metadata": {},
   "outputs": [],
   "source": [
    "def policy_gradient(env, num_episodes=500,init_weights = True,train = True):\n",
    "    global policy,optimizer\n",
    "\n",
    "    if init_weights:\n",
    "        policy = TrajectoryPolicy()\n",
    "        optimizer = optim.Adam(policy.parameters(), lr=0.01)\n",
    "    success = 0\n",
    "    ep_rewards = []\n",
    "    for i_episode in range(num_episodes):\n",
    "        \n",
    "        reward_sum = 0\n",
    "        actions,phi_x_g = policy()\n",
    "        reward_i,suc = run_episode(actions)\n",
    "        gradients_direction = compute_policy_gradients(traj_to_idx[actions],phi_x_g)\n",
    "        policy_loss = torch.sum(gradients_direction*phi_x_g)\n",
    "        ep_rewards.append(reward_i)\n",
    "        success += suc\n",
    "        optimizer.zero_grad()\n",
    "        policy_loss.backward()\n",
    "        optimizer.step()\n",
    "    return ep_rewards,success"
   ]
  },
  {
   "cell_type": "code",
   "execution_count": 18,
   "metadata": {},
   "outputs": [
    {
     "data": {
      "text/plain": [
       "865"
      ]
     },
     "execution_count": 18,
     "metadata": {},
     "output_type": "execute_result"
    }
   ],
   "source": [
    "ep_rewards,success = policy_gradient(env,num_episodes=1000) #the policy gradient method needs much more episodes to converge\n",
    "success"
   ]
  },
  {
   "cell_type": "code",
   "execution_count": 19,
   "metadata": {},
   "outputs": [
    {
     "name": "stdout",
     "output_type": "stream",
     "text": [
      "Mean Reward: -191.314959908\n"
     ]
    },
    {
     "data": {
      "image/png": "[encoded data removed]",
      "text/plain": [
       "<Figure size 432x288 with 1 Axes>"
      ]
     },
     "metadata": {},
     "output_type": "display_data"
    }
   ],
   "source": [
    "q_learning_pg_rewards, _ = zip(*[policy_gradient(env,500) for _ in range(10)])\n",
    "\n",
    "avg_rewards = np.mean(q_learning_pg_rewards, axis=0)\n",
    "\n",
    "mean_reward = [np.mean(avg_rewards)] * len(avg_rewards)\n",
    "fig, ax = plt.subplots()\n",
    "ax.set_xlabel('Episodes')\n",
    "ax.set_ylabel('Rewards')\n",
    "ax.plot(avg_rewards)\n",
    "ax.plot(mean_reward, 'g--')\n",
    "\n",
    "print('Mean Reward: {}'.format(mean_reward[0]))"
   ]
  },
  {
   "cell_type": "code",
   "execution_count": 20,
   "metadata": {},
   "outputs": [
    {
     "data": {
      "text/plain": [
       "(1, 2, 2, 0)"
      ]
     },
     "execution_count": 20,
     "metadata": {},
     "output_type": "execute_result"
    }
   ],
   "source": [
    "actions,_=policy()\n",
    "actions"
   ]
  },
  {
   "cell_type": "markdown",
   "metadata": {},
   "source": [
    "## Visualization"
   ]
  },
  {
   "cell_type": "code",
   "execution_count": 21,
   "metadata": {},
   "outputs": [],
   "source": [
    "def play(actions):\n",
    "    actions,_=policy()\n",
    "    print [ACTIONS[actions[i]] for i in range(len(actions))]\n",
    "    env = GridWorld()\n",
    "    state = env.reset()\n",
    "    done = False\n",
    "    history = [state]\n",
    "    for action in actions:    \n",
    "        # Select action\n",
    "        # Do the action\n",
    "        next_state, reward, done = env.step(action)  \n",
    "        history.append(next_state)\n",
    "        # Update state and action        \n",
    "        state = next_state  \n",
    "        #raw_input(\"Press Enter to continue...\")\n",
    "        env.render(q_values= np.zeros((num_states, num_actions)),history=history, colorize_q=True)\n",
    "        #raw_input(\"Press Enter to continue...\")\n",
    "        if done:\n",
    "            return\n",
    "    print 'path not found'"
   ]
  },
  {
   "cell_type": "code",
   "execution_count": 22,
   "metadata": {},
   "outputs": [
    {
     "name": "stdout",
     "output_type": "stream",
     "text": [
      "['DOWN', 'RIGHT', 'RIGHT', 'UP']\n"
     ]
    },
    {
     "data": {
      "image/png": "[encoded data removed]",
      "text/plain": [
       "<Figure size 648x648 with 1 Axes>"
      ]
     },
     "metadata": {},
     "output_type": "display_data"
    }
   ],
   "source": [
    "play(actions)"
   ]
  },
  {
   "cell_type": "code",
   "execution_count": null,
   "metadata": {},
   "outputs": [],
   "source": []
  }
 ],
 "metadata": {
  "kernelspec": {
   "display_name": "Python 2",
   "language": "python",
   "name": "python2"
  },
  "language_info": {
   "codemirror_mode": {
    "name": "ipython",
    "version": 2
   },
   "file_extension": ".py",
   "mimetype": "text/x-python",
   "name": "python",
   "nbconvert_exporter": "python",
   "pygments_lexer": "ipython2",
   "version": "2.7.10"
  }
 },
 "nbformat": 4,
 "nbformat_minor": 2
}
