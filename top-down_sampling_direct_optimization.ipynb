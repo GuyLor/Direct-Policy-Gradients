{
 "cells": [
  {
   "cell_type": "markdown",
   "metadata": {},
   "source": [
    "# RL Windy cliff walking top-down construction and direct optimization \n"
   ]
  },
  {
   "cell_type": "code",
   "execution_count": 1,
   "metadata": {},
   "outputs": [],
   "source": [
    "%matplotlib inline\n",
    "import matplotlib\n",
    "import matplotlib.pyplot as plt\n",
    "import numpy as np\n",
    "from matplotlib.colors import hsv_to_rgb\n"
   ]
  },
  {
   "cell_type": "markdown",
   "metadata": {},
   "source": [
    "##  Environment"
   ]
  },
  {
   "cell_type": "code",
   "execution_count": 2,
   "metadata": {},
   "outputs": [],
   "source": [
    "\n",
    "max_steps =10\n",
    "\n",
    "height = 4 #2*num_steps+1\n",
    "width = 6 #2*num_steps+1\n",
    "start = (height-1,0)#(num_steps,num_steps)\n",
    "obj = (height-1,width-1)#(num_steps,2*num_steps-2)\n",
    "\n",
    "num_states = width * height\n",
    "\n"
   ]
  },
  {
   "cell_type": "code",
   "execution_count": 3,
   "metadata": {},
   "outputs": [],
   "source": [
    "\n",
    "\n",
    "UP = 0\n",
    "DOWN = 1\n",
    "RIGHT = 2\n",
    "LEFT = 3\n",
    "\n",
    "ACTIONS = ['UP', 'DOWN', 'RIGHT', 'LEFT']\n",
    "num_actions = len(ACTIONS)\n",
    "\n",
    "wind = [0 for _ in range(width)] # probability of being pushed down at column i \n",
    "# for now, without wind \n",
    "#wind[2],wind[4] = 0.2,0.3"
   ]
  },
  {
   "cell_type": "code",
   "execution_count": 4,
   "metadata": {},
   "outputs": [],
   "source": [
    "class GridWorld:\n",
    "    terrain_color = dict(normal=[127.0/360, 0.0, 96.0/100],\n",
    "                         objective=[26.0/360, 100.0/100, 100.0/100],\n",
    "                         cliff=[247.0/360, 92.0/100, 70.0/100],\n",
    "                         player=[344.0/360, 93.0/100, 100.0/100])        \n",
    "    def __init__(self):\n",
    "        self.player = None\n",
    "        self._create_grid()  \n",
    "        self._draw_grid()\n",
    "        \n",
    "    def _create_grid(self, initial_grid=None):\n",
    "        self.grid = self.terrain_color['normal'] * np.ones((height, width, 3))\n",
    "        self._add_objectives(self.grid)\n",
    "        \n",
    "    def _add_objectives(self, grid,history = None):\n",
    "        grid[start[0], start[1]:obj[1]] = self.terrain_color['cliff']\n",
    "        grid[obj] = self.terrain_color['objective']\n",
    "        grid[start] = self.terrain_color['player']\n",
    "        if history is not None:\n",
    "            for idx in history:\n",
    "                grid[self._id_to_position(idx)] = self.terrain_color['player']\n",
    "    def _draw_grid(self):\n",
    "        self.fig, self.ax = plt.subplots(figsize=(width, height))\n",
    "        self.ax.grid(which='minor')\n",
    "        self.q_texts = [self.ax.text(*self._id_to_position(i)[::-1], s='0',\n",
    "                                     fontsize=11, verticalalignment='center', \n",
    "                                     horizontalalignment='center') for i in range(height * width)]  \n",
    "         \n",
    "        self.im = self.ax.imshow(hsv_to_rgb(self.grid), cmap='terrain',\n",
    "                                 interpolation='nearest', vmin=0, vmax=1)        \n",
    "        self.ax.set_xticks(np.arange(width))\n",
    "        self.ax.set_xticks(np.arange(width) - 0.5, minor=True)\n",
    "        self.ax.set_yticks(np.arange(height))\n",
    "        self.ax.set_yticks(np.arange(height) - 0.5, minor=True)\n",
    "        \n",
    "    def reset(self):\n",
    "        self.player = start      \n",
    "        return self._position_to_id(self.player)\n",
    "    \n",
    "    def step(self,state, action):\n",
    "        # Possible actions\n",
    "        \n",
    "        state = self._id_to_position(state)\n",
    "        if action == 0 and state[0] > 0:\n",
    "            state = (state[0] - 1, state[1])\n",
    "        if action == 1 and state[0] < height - 1:\n",
    "            state = (state[0] + 1, state[1])\n",
    "        if action == 2 and state[1] < width - 1:\n",
    "            state = (state[0], state[1] + 1)\n",
    "        if action == 3 and state[1] > 0:\n",
    "            state = (state[0], state[1] - 1)\n",
    "        \"\"\"    \n",
    "        if action == 4:\n",
    "            state = state\n",
    "        \"\"\"\n",
    "        failed = all(self.grid[state] == self.terrain_color['cliff'])\n",
    "        succeeded = all(self.grid[state] == self.terrain_color['objective'])\n",
    "\n",
    "        if not (failed or succeeded):\n",
    "            state = self._add_wind(state)\n",
    "        \n",
    "        # the wind can change his destiny :)\n",
    "        failed = all(self.grid[state] == self.terrain_color['cliff'])\n",
    "        succeeded = all(self.grid[state] == self.terrain_color['objective'])\n",
    "        # Rules\n",
    "        if failed:\n",
    "            reward = -100\n",
    "            status = 'failed'\n",
    "        elif succeeded:\n",
    "            reward = 0\n",
    "            status = 'succeeded'\n",
    "        else:\n",
    "            reward = -1\n",
    "            status = 'walking'\n",
    "            \n",
    "        return self._position_to_id(state), reward, status\n",
    "    \n",
    "    def _add_wind(self,new_state):\n",
    "        \n",
    "        x_loc = new_state[1]\n",
    "        p = np.random.random()\n",
    "        if p<wind[x_loc] and new_state[0] < height-1:\n",
    "            new_state = (new_state[0]+1, new_state[1])\n",
    "        return new_state\n",
    "            \n",
    "    def _position_to_id(self, pos):\n",
    "        ''' Maps a position in x,y coordinates to a unique ID '''\n",
    "        return pos[0] * width + pos[1]\n",
    "    \n",
    "    def _id_to_position(self, idx):\n",
    "        return (idx // width), (idx % width)\n",
    "        \n",
    "    def render(self, q_values=None, action=None,history = None, max_q=False, colorize_q=False):\n",
    "        assert self.player is not None, 'You first need to call .reset()'  \n",
    "        def change_range(values, vmin=0, vmax=1):\n",
    "            start_zero = values - np.min(values)\n",
    "            return (start_zero / (np.max(start_zero) + 1e-7)) * (vmax - vmin) + vmin \n",
    "        \n",
    "        if colorize_q:\n",
    "            assert q_values is not None, 'q_values must not be None for using colorize_q'            \n",
    "            grid = self.terrain_color['normal'] * np.ones((height, width, 3))\n",
    "            values = change_range(np.max(q_values, -1)).reshape(height, width)\n",
    "            grid[:, :, 1] = values\n",
    "            self._add_objectives(grid,history)\n",
    "        else:            \n",
    "            grid = self.grid.copy()\n",
    "            \n",
    "        grid[self.player] = self.terrain_color['player']       \n",
    "        self.im.set_data(hsv_to_rgb(grid))\n",
    "               \n",
    "        if q_values is not None:\n",
    "            xs = np.repeat(np.arange(width), height)\n",
    "            ys = np.tile(np.arange(height), width)  \n",
    "            \n",
    "            for i, text in enumerate(self.q_texts):\n",
    "                if max_q:\n",
    "                    q = max(q_values[i])    \n",
    "                    txt = '{:.2f}'.format(q)\n",
    "                    text.set_text(txt)\n",
    "                else:                \n",
    "                    actions = ['U', 'D', 'R', 'L']\n",
    "                    txt = '\\n'.join(['{}: {:.2f}'.format(k, q) for k, q in zip(actions, q_values[i])])\n",
    "                    text.set_text(txt)\n"
   ]
  },
  {
   "cell_type": "code",
   "execution_count": 5,
   "metadata": {},
   "outputs": [
    {
     "data": {
      "image/png": "[encoded data removed]",
      "text/plain": [
       "<Figure size 432x288 with 1 Axes>"
      ]
     },
     "metadata": {},
     "output_type": "display_data"
    }
   ],
   "source": [
    "env = GridWorld()"
   ]
  },
  {
   "cell_type": "markdown",
   "metadata": {},
   "source": [
    "## Policy model"
   ]
  },
  {
   "cell_type": "code",
   "execution_count": 6,
   "metadata": {},
   "outputs": [],
   "source": [
    "import torch\n",
    "import torch.nn as nn\n",
    "import torch.nn.functional as F\n",
    "import torch.optim as optim\n",
    "from torch.distributions import Categorical\n",
    "import collections\n"
   ]
  },
  {
   "cell_type": "code",
   "execution_count": 7,
   "metadata": {},
   "outputs": [],
   "source": [
    "class Policy(nn.Module):\n",
    "    def __init__(self):\n",
    "        super(Policy, self).__init__()       \n",
    "        \n",
    "        self.fc1 = nn.Linear(num_states,num_actions)\n",
    "        \n",
    "    def forward(self,state):\n",
    "        #print state.size()\n",
    "        state = torch.FloatTensor(state.size(0),num_states).zero_().scatter_(-1, state,1.0) # convert idx to 'one-hot'\n",
    "        logits = self.fc1(state)\n",
    "        \n",
    "        return logits       \n",
    "\n",
    "policy = Policy()\n"
   ]
  },
  {
   "cell_type": "markdown",
   "metadata": {},
   "source": [
    "## Top-down construction "
   ]
  },
  {
   "cell_type": "code",
   "execution_count": 8,
   "metadata": {},
   "outputs": [],
   "source": [
    "def sample_gumbel(mu):\n",
    "    \"\"\"Sample a Gumbel(mu).\"\"\"    \n",
    "    return -np.log(np.random.exponential()) + mu\n",
    "\n",
    "\n",
    "def sample_truncated_gumbel(mu, b):\n",
    "    \"\"\"Sample a Gumbel(mu) truncated to be less than b.\"\"\"    \n",
    "    return -np.log(np.random.exponential() + np.exp(-b + mu)) + mu\n",
    "\n",
    "  \n",
    "def sample_gumbel_argmax(logits):\n",
    "    \"\"\"Sample from a softmax distribution over logits.\n",
    "\n",
    "    TODO: check this is correct.\n",
    "\n",
    "    Args:\n",
    "    logits: A flat numpy array of logits.\n",
    "\n",
    "    Returns:\n",
    "    A sample from softmax(logits).\n",
    "    \"\"\"\n",
    "    return np.argmax(-np.log(np.random.exponential(size=logits.shape)) + logits)\n",
    "\n",
    "\n",
    "def logsumexp(logits):\n",
    "    c = np.max(logits)\n",
    "    return np.log(np.sum(np.exp(logits - c))) + c\n",
    "\n",
    "\n",
    "def log_softmax(logits, axis=1):\n",
    "    \"\"\"Normalize logits per row so that they are logprobs.\n",
    "  \n",
    "      TODO: check this is correct. \n",
    "    \"\"\"\n",
    "    maxes = np.max(logits, axis=axis, keepdims=True)\n",
    "    offset_logits = logits - maxes\n",
    "    log_zs = np.log(np.sum(np.exp(offset_logits), axis=axis, keepdims=True))\n",
    "    return offset_logits - log_zs"
   ]
  },
  {
   "cell_type": "code",
   "execution_count": 9,
   "metadata": {},
   "outputs": [],
   "source": [
    "# Make a node without a state, and also don't allow `next_actions` to be None.\n",
    "# Just put in all possible next actions when the node is created.\n",
    "Node = collections.namedtuple('Node', \n",
    "                              [\n",
    "                                  'prefix',\n",
    "                                  'states',\n",
    "                                  'reward_so_far',\n",
    "                                  'status',                                  \n",
    "                                  'logprob_so_far',\n",
    "                                  'max_gumbel', \n",
    "                                  'next_actions',\n",
    "                                  \n",
    "                              ])\n",
    "\n",
    "# Namedtuple for storing results\n",
    "Trajectory = collections.namedtuple('Trajectory', ['actions','states','gumbel','reward','status'])\n",
    "\n",
    "\n",
    "def sample_trajectory_gumbels(policy_model, num_actions,max_length=10,epsilon=5.0):\n",
    "    \"\"\"Samples an independent Gumbel(logprob) for each trajectory in top-down-ish order.\n",
    "\n",
    "    Args:\n",
    "        policy_model: Pytorch model that gets state and returns actions logits\n",
    "        num_actions: Number of possible actions, should be equal to the policy output size\n",
    "        max_length: Maximum length of a trajectory to allow.\n",
    "        epsilon: direct optimization parameter\n",
    "    Returns:\n",
    "        y_opt: trajectory of max gumbel \n",
    "        y_direct: trajectory of max gumbel + reward*epsilon (target)\n",
    "        final_trajectories: int, number of all trajectories (can be deleted, just for debugging)\n",
    "    \"\"\"\n",
    "\n",
    "    # Start with a node for all trajectories.\n",
    "    root_node = Node(prefix=[],\n",
    "                   states = [env.reset()],\n",
    "                   reward_so_far=0,\n",
    "                   status='walking',  \n",
    "                   logprob_so_far=0,\n",
    "                   max_gumbel=sample_gumbel(0), \n",
    "                   next_actions=range(num_actions))\n",
    "                   \n",
    "    queue = [root_node]\n",
    "    max_gumbel_eps_reward ,max_gumbel= -10000,-10000\n",
    "    final_trajectories = 0\n",
    "    \n",
    "    while queue:\n",
    "        parent = queue.pop()\n",
    "        if  parent.status in ['failed','succeeded'] or len(parent.prefix) == max_length:\n",
    "            final_trajectories += 1\n",
    "            t = Trajectory(actions=parent.prefix,\n",
    "                           states=parent.states,\n",
    "                           gumbel=parent.max_gumbel,\n",
    "                           reward=parent.reward_so_far,\n",
    "                           status=parent.status)\n",
    "\n",
    "            assert len(t.actions) == len(parent.states)-1\n",
    "            #computations for direct optimization\n",
    "            gumbel_eps_reward = t.gumbel + epsilon*t.reward\n",
    "            if gumbel_eps_reward > max_gumbel_eps_reward:\n",
    "                max_gumbel_eps_reward = gumbel_eps_reward\n",
    "                t_direct = t\n",
    "            if t.gumbel > max_gumbel:\n",
    "                max_gumbel = t.gumbel\n",
    "                t_opt = t\n",
    "            if parent.status == 'succeeded':\n",
    "                break\n",
    "            \n",
    "            continue\n",
    "\n",
    "        current_state = parent.states[-1]       \n",
    "        \n",
    "        with torch.no_grad():\n",
    "            state = torch.LongTensor([current_state]).unsqueeze(0)\n",
    "            action_logprobs = policy_model(state).numpy().squeeze(0)\n",
    "        \n",
    "        next_action_logprobs = action_logprobs[parent.next_actions]\n",
    "        special_action_index = sample_gumbel_argmax(next_action_logprobs)\n",
    "        special_action = parent.next_actions[special_action_index]\n",
    "        special_action_logprob = action_logprobs[special_action]\n",
    "        \n",
    "\n",
    "        new_state,reward,status = env.step(current_state,special_action)\n",
    "\n",
    "        special_child = Node(prefix=parent.prefix + [special_action],\n",
    "                             states=parent.states + [new_state],\n",
    "                             reward_so_far=parent.reward_so_far + reward,\n",
    "                             status=status,\n",
    "                             logprob_so_far=parent.logprob_so_far + special_action_logprob,\n",
    "                             max_gumbel=parent.max_gumbel, \n",
    "                             next_actions=range(num_actions)) # All next actions are possible.\n",
    "\n",
    "        queue.append(special_child)\n",
    "\n",
    "        # Sample the max gumbel for the non-chosen actions and create an \"other\n",
    "        # children\" node if there are any alternatives left.\n",
    "\n",
    "        other_actions = [i for i in parent.next_actions if i != special_action]\n",
    "        assert len(other_actions) == len(parent.next_actions) - 1\n",
    "\n",
    "        if other_actions:\n",
    "            other_max_location = logsumexp(action_logprobs[other_actions])\n",
    "            other_max_gumbel = sample_truncated_gumbel(parent.logprob_so_far + other_max_location, \n",
    "                                                     parent.max_gumbel)\n",
    "            other_children = Node(prefix=parent.prefix,\n",
    "                                states=parent.states,\n",
    "                                reward_so_far=parent.reward_so_far,\n",
    "                                status=parent.status,\n",
    "                                logprob_so_far=parent.logprob_so_far,\n",
    "                                max_gumbel=other_max_gumbel,\n",
    "                                next_actions=other_actions)\n",
    "\n",
    "\n",
    "\n",
    "            queue.append(other_children)\n",
    "            \n",
    "\n",
    "    return t_opt, t_direct,final_trajectories #  final_trajectories is "
   ]
  },
  {
   "cell_type": "code",
   "execution_count": 10,
   "metadata": {
    "scrolled": true
   },
   "outputs": [
    {
     "name": "stdout",
     "output_type": "stream",
     "text": [
      "t_direct actions \n",
      "[0, 0, 3, 2, 2, 2, 1, 2, 2, 1]\n",
      "t_direct opt \n",
      "[0, 0, 0, 0, 2, 2, 2, 3, 2, 1]\n",
      "len of final trajectories 17668\n"
     ]
    }
   ],
   "source": [
    "\n",
    "# example\n",
    "t_opt, t_direct,len_final_trajectories = sample_trajectory_gumbels(policy,num_actions,max_steps)\n",
    "print 't_direct actions \\n',t_direct.actions\n",
    "print 't_direct opt \\n',t_opt.actions\n",
    "print 'len of final trajectories',len_final_trajectories\n"
   ]
  },
  {
   "cell_type": "markdown",
   "metadata": {},
   "source": [
    "## Direct optimization "
   ]
  },
  {
   "cell_type": "code",
   "execution_count": 11,
   "metadata": {},
   "outputs": [],
   "source": [
    "def direct_optimization_loss(policy_model,t_opt,t_direct,epsilon=1.0):\n",
    "    \"\"\"computes \\nabla \\phi(a,s) = \\sum_{t=1}^T \\nabla \\phi(a_t, s_t) with direct optimization\n",
    "    \n",
    "    Args:\n",
    "        policy_model: Pytorch model gets state and returns actions logits \n",
    "        t_opt: trajectory of max(gumbel)\n",
    "        t_direct: trajectory of max(gumbel+epsilon*reward) \n",
    "        epsilon: for direct optimization, usually between 0.9-1.0\n",
    "    Returns: \n",
    "        logits multiplied with vector of (1,0,..,-1) [for example]\n",
    "        so when we derive it with backward we ends up with \\nabla \\phi_opt(a,s) - \\nabla \\phi_direct(a,s)\"\"\"\n",
    "    direct_states  = t_direct.states\n",
    "    direct_states = torch.LongTensor(direct_states)[:-1].view(-1,1)\n",
    "    opt_states  = t_opt.states\n",
    "    opt_states = torch.LongTensor(opt_states)[:-1].view(-1,1)\n",
    "    \n",
    "    direct_actions = t_direct.actions\n",
    "    direct_actions = torch.LongTensor(direct_actions).view(-1,1)\n",
    "    opt_actions = t_opt.actions    \n",
    "    opt_actions = torch.LongTensor(opt_actions).view(-1,1)\n",
    "    \n",
    "    opt_direct_states = torch.cat((opt_states,direct_states))\n",
    "    \n",
    "    phi = policy_model(opt_direct_states) # gets the logits so the network will calculates weights gradients\n",
    "\n",
    "    #print phi\n",
    "    y_direct = - torch.FloatTensor(direct_actions.size(0),phi.size(1)).zero_().scatter_(-1,direct_actions,1.0) # one-hot that points to the best direction\n",
    "    y_opt = torch.FloatTensor(opt_actions.size(0),phi.size(1)).zero_().scatter_(-1, opt_actions,1.0)\n",
    "    \n",
    "    y_opt_direct = torch.cat((y_opt,y_direct))\n",
    "    y_opt_direct = y_opt_direct*(1.0/epsilon)\n",
    "    #print y_opt_direct*phi\n",
    "    policy_loss = torch.sum(y_opt_direct*phi)   \n",
    "    return policy_loss"
   ]
  },
  {
   "cell_type": "markdown",
   "metadata": {},
   "source": [
    "## Training "
   ]
  },
  {
   "cell_type": "code",
   "execution_count": 12,
   "metadata": {},
   "outputs": [],
   "source": [
    "\n",
    "def run_episode(actions_list):\n",
    "    \"\"\"Interacts with the environment given actions \"\"\"\n",
    "    rewards = 0\n",
    "    status = 'walking'\n",
    "    success = False\n",
    "    state = env.reset()\n",
    "    for action in actions_list: \n",
    "        state, reward, status = env.step(state,action)\n",
    "        if status=='succeeded':\n",
    "            success = True\n",
    "        rewards += reward\n",
    "    return rewards,success"
   ]
  },
  {
   "cell_type": "code",
   "execution_count": 13,
   "metadata": {},
   "outputs": [],
   "source": [
    "def train_policy_model(policy_model, num_episodes=500,epsilon=1.0):\n",
    "\n",
    "    optimizer = optim.Adam(policy_model.parameters(), lr=0.05)\n",
    "    success = 0\n",
    "    rewards = []\n",
    "    for episode in range(num_episodes):\n",
    "        t_opt, t_direct,_ = sample_trajectory_gumbels(policy_model,num_actions,max_steps,epsilon=epsilon)\n",
    "        policy_loss = direct_optimization_loss(policy_model = policy_model,\n",
    "                                               t_opt=t_opt,\n",
    "                                               t_direct=t_direct,\n",
    "                                               epsilon=epsilon)\n",
    "\n",
    "        optimizer.zero_grad()\n",
    "        policy_loss.backward()\n",
    "        optimizer.step()\n",
    "        \n",
    "        trajectory_reward,suc = run_episode(t_opt.actions)\n",
    "        success += suc\n",
    "        rewards.append(trajectory_reward)\n",
    "    return policy_model,success,rewards"
   ]
  },
  {
   "cell_type": "code",
   "execution_count": 14,
   "metadata": {},
   "outputs": [
    {
     "data": {
      "text/plain": [
       "278"
      ]
     },
     "execution_count": 14,
     "metadata": {},
     "output_type": "execute_result"
    }
   ],
   "source": [
    "policy = Policy()\n",
    "policy,num_success,rewards = train_policy_model(policy,num_episodes=1000,epsilon=1.0) #the policy gradient method needs much more episodes to converge\n",
    "num_success # number of times the player has reached the goal"
   ]
  },
  {
   "cell_type": "markdown",
   "metadata": {},
   "source": [
    "## Visualization"
   ]
  },
  {
   "cell_type": "code",
   "execution_count": 15,
   "metadata": {},
   "outputs": [
    {
     "name": "stdout",
     "output_type": "stream",
     "text": [
      "Mean Reward: -32.962\n"
     ]
    },
    {
     "data": {
      "image/png": "[encoded data removed]",
      "text/plain": [
       "<Figure size 432x288 with 1 Axes>"
      ]
     },
     "metadata": {},
     "output_type": "display_data"
    }
   ],
   "source": [
    "trials = 5\n",
    "all_rewards =[]\n",
    "for trial in range(trials):\n",
    "    policy = Policy()\n",
    "    policy,num_success,rewards = train_policy_model(policy,num_episodes=100)\n",
    "    all_rewards.append(rewards)\n",
    "\n",
    "avg_rewards = np.mean(all_rewards, axis=0)\n",
    "\n",
    "mean_reward = [np.mean(avg_rewards)] * len(avg_rewards)\n",
    "fig, ax = plt.subplots()\n",
    "ax.set_xlabel('Episodes')\n",
    "ax.set_ylabel('Rewards')\n",
    "ax.plot(avg_rewards)\n",
    "ax.plot(mean_reward, 'g--')\n",
    "\n",
    "print('Mean Reward: {}'.format(mean_reward[0]))"
   ]
  },
  {
   "cell_type": "code",
   "execution_count": 16,
   "metadata": {},
   "outputs": [],
   "source": [
    "def fill_q_values(policy):\n",
    "    q_values_pg = np.zeros((num_states, num_actions))\n",
    "\n",
    "    for s in range(num_states):\n",
    "        state = torch.LongTensor([s]).unsqueeze(0)\n",
    "        q_values_pg[s] = F.softmax(policy(state),dim=-1).detach().numpy()\n",
    "    return q_values_pg"
   ]
  },
  {
   "cell_type": "code",
   "execution_count": 17,
   "metadata": {},
   "outputs": [],
   "source": [
    "def play(policy):\n",
    "    t_direct,t_opt,_ = sample_trajectory_gumbels(policy,num_actions,max_steps)\n",
    "    actions = t_opt.actions\n",
    "    print [ACTIONS[actions[i]] for i in range(len(actions))]\n",
    "    env = GridWorld()\n",
    "    state = env.reset()\n",
    "    \n",
    "    status = 'walking'\n",
    "    history = [state]\n",
    "    for action in actions:    \n",
    "        # Select action\n",
    "        # Do the action\n",
    "        state, reward, status = env.step(state,action)\n",
    "        history.append(state)\n",
    "\n",
    "        env.player = env._id_to_position(state)\n",
    "        #raw_input(\"Press Enter to continue...\")\n",
    "        env.render(q_values= fill_q_values(policy),history=history, colorize_q=True)\n",
    "        #raw_input(\"Press Enter to continue...\")\n",
    "        if status == 'succeeded':\n",
    "            return\n",
    "    print 'path not found'"
   ]
  },
  {
   "cell_type": "code",
   "execution_count": 18,
   "metadata": {},
   "outputs": [
    {
     "name": "stdout",
     "output_type": "stream",
     "text": [
      "['LEFT', 'LEFT', 'LEFT', 'UP', 'RIGHT', 'RIGHT', 'RIGHT', 'RIGHT', 'RIGHT', 'DOWN']\n"
     ]
    },
    {
     "data": {
      "image/png": "[encoded data removed]",
      "text/plain": [
       "<Figure size 432x288 with 1 Axes>"
      ]
     },
     "metadata": {},
     "output_type": "display_data"
    }
   ],
   "source": [
    "play(policy)"
   ]
  },
  {
   "cell_type": "code",
   "execution_count": null,
   "metadata": {},
   "outputs": [],
   "source": []
  }
 ],
 "metadata": {
  "kernelspec": {
   "display_name": "Python 2",
   "language": "python",
   "name": "python2"
  },
  "language_info": {
   "codemirror_mode": {
    "name": "ipython",
    "version": 2
   },
   "file_extension": ".py",
   "mimetype": "text/x-python",
   "name": "python",
   "nbconvert_exporter": "python",
   "pygments_lexer": "ipython2",
   "version": "2.7.10"
  }
 },
 "nbformat": 4,
 "nbformat_minor": 2
}
